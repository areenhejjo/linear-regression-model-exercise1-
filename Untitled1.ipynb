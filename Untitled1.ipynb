{
 "cells": [
  {
   "cell_type": "code",
   "execution_count": 31,
   "metadata": {
    "collapsed": false
   },
   "outputs": [
    {
     "ename": "ERROR",
     "evalue": "Error in library(randomForestSRC): there is no package called 'randomForestSRC'\n",
     "output_type": "error",
     "traceback": [
      "Error in library(randomForestSRC): there is no package called 'randomForestSRC'\nTraceback:\n",
      "1. library(randomForestSRC)",
      "2. stop(txt, domain = NA)"
     ]
    }
   ],
   "source": [
    "library(randomForest)\n",
    "library(randomForestSRC)\n",
    "library(caret)\n",
    "library(randomForest)\n",
    "library(corrplot)\n",
    "library(dplyr) \n",
    "library(rattle)\n",
    "\n",
    "#load the data\n",
    "data = read.csv(\"HR_comma_sep.csv\")\n"
   ]
  },
  {
   "cell_type": "code",
   "execution_count": 30,
   "metadata": {
    "collapsed": false
   },
   "outputs": [
    {
     "data": {
      "text/html": [
       "<dl class=dl-horizontal>\n",
       "\t<dt>...</dt>\n",
       "\t\t<dd>'name'</dd>\n",
       "\t<dt>list</dt>\n",
       "\t\t<dd>'call'</dd>\n",
       "\t<dt>package</dt>\n",
       "\t\t<dd>'NULL'</dd>\n",
       "\t<dt>lib.loc</dt>\n",
       "\t\t<dd>'NULL'</dd>\n",
       "\t<dt>verbose</dt>\n",
       "\t\t<dd>'call'</dd>\n",
       "\t<dt>envir</dt>\n",
       "\t\t<dd>'name'</dd>\n",
       "\t<dt>7</dt>\n",
       "\t\t<dd>'{'</dd>\n",
       "</dl>\n"
      ],
      "text/latex": [
       "\\begin{description*}\n",
       "\\item[...] 'name'\n",
       "\\item[list] 'call'\n",
       "\\item[package] 'NULL'\n",
       "\\item[lib.loc] 'NULL'\n",
       "\\item[verbose] 'call'\n",
       "\\item[envir] 'name'\n",
       "\\item[7] '\\{'\n",
       "\\end{description*}\n"
      ],
      "text/markdown": [
       "...\n",
       ":   'name'list\n",
       ":   'call'package\n",
       ":   'NULL'lib.loc\n",
       ":   'NULL'verbose\n",
       ":   'call'envir\n",
       ":   'name'7\n",
       ":   '{'\n",
       "\n"
      ],
      "text/plain": [
       "    ...    list package lib.loc verbose   envir         \n",
       " \"name\"  \"call\"  \"NULL\"  \"NULL\"  \"call\"  \"name\"     \"{\" "
      ]
     },
     "metadata": {},
     "output_type": "display_data"
    }
   ],
   "source": [
    " sapply(data,class)\n"
   ]
  },
  {
   "cell_type": "code",
   "execution_count": 32,
   "metadata": {
    "collapsed": false
   },
   "outputs": [
    {
     "ename": "ERROR",
     "evalue": "Error in data$department: object of type 'closure' is not subsettable\n",
     "output_type": "error",
     "traceback": [
      "Error in data$department: object of type 'closure' is not subsettable\nTraceback:\n"
     ]
    }
   ],
   "source": [
    " data$departmentN = as.numeric(data$department)\n",
    "data$salaryN = as.numeric(data$salary)\n"
   ]
  },
  {
   "cell_type": "code",
   "execution_count": 35,
   "metadata": {
    "collapsed": false
   },
   "outputs": [
    {
     "ename": "ERROR",
     "evalue": "Error in data[, c(\"salaryN\", \"satisfaction_level\", \"last_evaluation\", : object of type 'closure' is not subsettable\n",
     "output_type": "error",
     "traceback": [
      "Error in data[, c(\"salaryN\", \"satisfaction_level\", \"last_evaluation\", : object of type 'closure' is not subsettable\nTraceback:\n"
     ]
    }
   ],
   "source": [
    "tempData = data[,c( \"salaryN\",\"satisfaction_level\",\"last_evaluation\",\"number_project\",\"promotion_last_5years\",\"Work_accident\", \"average_montly_hours\",\"time_spend_company\",\"left\")]\n",
    "corrplot( cor(as.matrix(tempData), method = \"pearson\", use = \"complete.obs\") ,is.corr = FALSE, type = \"lower\", order = \"hclust\", \n",
    "         tl.col = \"black\", tl.srt = 45)"
   ]
  },
  {
   "cell_type": "code",
   "execution_count": 38,
   "metadata": {
    "collapsed": false
   },
   "outputs": [
    {
     "ename": "ERROR",
     "evalue": "Error in `*tmp*`$satisfaction: object of type 'closure' is not subsettable\n",
     "output_type": "error",
     "traceback": [
      "Error in `*tmp*`$satisfaction: object of type 'closure' is not subsettable\nTraceback:\n"
     ]
    }
   ],
   "source": [
    "data$satisfaction[data$satisfaction_level >= 0.9] = 'Highest'\n",
    "data$satisfaction[data$satisfaction_level >= 0.8 & data$satisfaction_level < 0.9 ] = 'High'\n",
    "data$satisfaction[data$satisfaction_level >= 0.6 & data$satisfaction_level < 0.8 ] = 'Good'\n",
    "data$satisfaction[data$satisfaction_level >= 0.4 & data$satisfaction_level < 0.6 ] = 'Average'\n",
    "data$satisfaction[data$satisfaction_level >= 0.2 & data$satisfaction_level < 0.4 ] = 'Low'\n",
    "data$satisfaction[data$satisfaction_level <  0.2] = 'Lowest'\n",
    "#assign to new variable as factor.\n",
    "data$satisfaction = as.factor(data$satisfaction)\n",
    "\n",
    "#one more new variable for 'left' for string representation.\n",
    "data$leftString[hrdata$left ==  1] = 'Left'\n",
    "data$leftString[hrdata$left ==  0] = 'Not Left'\n",
    "\n",
    "#Create a barplot 'Employees left vs Satisfaction'\n",
    "leftAndSatisfactionTable <- table(data$leftString, data$satisfaction)\n",
    "barplot(leftAndSatisfactionTable, main=\"Employees left vs Satisfaction\",\n",
    "        xlab=\"Satisfaction Level\", col=c(\"red\",\"green\"),\n",
    "        legend = rownames(leftAndSatisfactionTable), beside=TRUE)"
   ]
  },
  {
   "cell_type": "code",
   "execution_count": null,
   "metadata": {
    "collapsed": true
   },
   "outputs": [],
   "source": []
  }
 ],
 "metadata": {
  "kernelspec": {
   "display_name": "R",
   "language": "R",
   "name": "ir"
  },
  "language_info": {
   "codemirror_mode": "r",
   "file_extension": ".r",
   "mimetype": "text/x-r-source",
   "name": "R",
   "pygments_lexer": "r",
   "version": "3.3.2"
  }
 },
 "nbformat": 4,
 "nbformat_minor": 2
}
