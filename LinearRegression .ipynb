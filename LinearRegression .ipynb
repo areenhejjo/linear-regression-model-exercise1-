{
 "cells": [
  {
   "cell_type": "markdown",
   "metadata": {},
   "source": [
    "# Linear Regression \n"
   ]
  },
  {
   "cell_type": "code",
   "execution_count": 1,
   "metadata": {
    "collapsed": false
   },
   "outputs": [
    {
     "name": "stderr",
     "output_type": "stream",
     "text": [
      "Loading required package: lattice\n",
      "Loading required package: ggplot2\n"
     ]
    }
   ],
   "source": [
    "#  Employee data linear regression \n",
    "\n",
    "# reference the caret package (wrapper of many machine learning R algorithms)\n",
    "library(caret) # caret also loads 2 packages: lattice and ggplot2\n",
    "\n",
    "# Read CSV\n",
    "df <- read.csv('HR_comma_sep.csv')"
   ]
  },
  {
   "cell_type": "code",
   "execution_count": 2,
   "metadata": {
    "collapsed": false
   },
   "outputs": [
    {
     "data": {
      "text/html": [
       "<table>\n",
       "<thead><tr><th scope=col>satisfaction_level</th><th scope=col>last_evaluation</th><th scope=col>number_project</th><th scope=col>average_montly_hours</th><th scope=col>time_spend_company</th><th scope=col>Work_accident</th><th scope=col>left</th><th scope=col>promotion_last_5years</th><th scope=col>sales</th><th scope=col>salary</th></tr></thead>\n",
       "<tbody>\n",
       "\t<tr><td>0.38  </td><td>0.53  </td><td>2     </td><td>157   </td><td>3     </td><td>0     </td><td>1     </td><td>0     </td><td>sales </td><td>low   </td></tr>\n",
       "\t<tr><td>0.80  </td><td>0.86  </td><td>5     </td><td>262   </td><td>6     </td><td>0     </td><td>1     </td><td>0     </td><td>sales </td><td>medium</td></tr>\n",
       "\t<tr><td>0.11  </td><td>0.88  </td><td>7     </td><td>272   </td><td>4     </td><td>0     </td><td>1     </td><td>0     </td><td>sales </td><td>medium</td></tr>\n",
       "\t<tr><td>0.72  </td><td>0.87  </td><td>5     </td><td>223   </td><td>5     </td><td>0     </td><td>1     </td><td>0     </td><td>sales </td><td>low   </td></tr>\n",
       "\t<tr><td>0.37  </td><td>0.52  </td><td>2     </td><td>159   </td><td>3     </td><td>0     </td><td>1     </td><td>0     </td><td>sales </td><td>low   </td></tr>\n",
       "</tbody>\n",
       "</table>\n"
      ],
      "text/latex": [
       "\\begin{tabular}{r|llllllllll}\n",
       " satisfaction\\_level & last\\_evaluation & number\\_project & average\\_montly\\_hours & time\\_spend\\_company & Work\\_accident & left & promotion\\_last\\_5years & sales & salary\\\\\n",
       "\\hline\n",
       "\t 0.38   & 0.53   & 2      & 157    & 3      & 0      & 1      & 0      & sales  & low   \\\\\n",
       "\t 0.80   & 0.86   & 5      & 262    & 6      & 0      & 1      & 0      & sales  & medium\\\\\n",
       "\t 0.11   & 0.88   & 7      & 272    & 4      & 0      & 1      & 0      & sales  & medium\\\\\n",
       "\t 0.72   & 0.87   & 5      & 223    & 5      & 0      & 1      & 0      & sales  & low   \\\\\n",
       "\t 0.37   & 0.52   & 2      & 159    & 3      & 0      & 1      & 0      & sales  & low   \\\\\n",
       "\\end{tabular}\n"
      ],
      "text/markdown": [
       "\n",
       "satisfaction_level | last_evaluation | number_project | average_montly_hours | time_spend_company | Work_accident | left | promotion_last_5years | sales | salary | \n",
       "|---|---|---|---|---|\n",
       "| 0.38   | 0.53   | 2      | 157    | 3      | 0      | 1      | 0      | sales  | low    | \n",
       "| 0.80   | 0.86   | 5      | 262    | 6      | 0      | 1      | 0      | sales  | medium | \n",
       "| 0.11   | 0.88   | 7      | 272    | 4      | 0      | 1      | 0      | sales  | medium | \n",
       "| 0.72   | 0.87   | 5      | 223    | 5      | 0      | 1      | 0      | sales  | low    | \n",
       "| 0.37   | 0.52   | 2      | 159    | 3      | 0      | 1      | 0      | sales  | low    | \n",
       "\n",
       "\n"
      ],
      "text/plain": [
       "  satisfaction_level last_evaluation number_project average_montly_hours\n",
       "1 0.38               0.53            2              157                 \n",
       "2 0.80               0.86            5              262                 \n",
       "3 0.11               0.88            7              272                 \n",
       "4 0.72               0.87            5              223                 \n",
       "5 0.37               0.52            2              159                 \n",
       "  time_spend_company Work_accident left promotion_last_5years sales salary\n",
       "1 3                  0             1    0                     sales low   \n",
       "2 6                  0             1    0                     sales medium\n",
       "3 4                  0             1    0                     sales medium\n",
       "4 5                  0             1    0                     sales low   \n",
       "5 3                  0             1    0                     sales low   "
      ]
     },
     "metadata": {},
     "output_type": "display_data"
    }
   ],
   "source": [
    "# explore the data\n",
    "head(df,5)"
   ]
  },
  {
   "cell_type": "code",
   "execution_count": 3,
   "metadata": {
    "collapsed": false
   },
   "outputs": [
    {
     "data": {},
     "metadata": {},
     "output_type": "display_data"
    },
    {
     "data": {
      "image/png": "[encoded data removed]",
      "text/plain": [
       "plot without title"
      ]
     },
     "metadata": {},
     "output_type": "display_data"
    }
   ],
   "source": [
    "library(ggplot2)\n",
    "ggplot(df,aes(left)) + geom_bar()"
   ]
  },
  {
   "cell_type": "code",
   "execution_count": 4,
   "metadata": {
    "collapsed": false
   },
   "outputs": [
    {
     "data": {},
     "metadata": {},
     "output_type": "display_data"
    },
    {
     "data": {
      "image/png": "[encoded data removed]",
      "text/plain": [
       "plot without title"
      ]
     },
     "metadata": {},
     "output_type": "display_data"
    }
   ],
   "source": [
    "ggplot(df,aes(salary)) + geom_bar(aes(fill=factor(salary)),alpha=0.5)\n"
   ]
  },
  {
   "cell_type": "code",
   "execution_count": 6,
   "metadata": {
    "collapsed": false
   },
   "outputs": [
    {
     "data": {},
     "metadata": {},
     "output_type": "display_data"
    },
    {
     "data": {
      "image/png": "[encoded data removed]",
      "text/plain": [
       "plot without title"
      ]
     },
     "metadata": {},
     "output_type": "display_data"
    }
   ],
   "source": [
    "ggplot(df,aes(number_project)) + geom_bar(aes(fill=factor(number_project)),alpha=0.5)\n"
   ]
  },
  {
   "cell_type": "code",
   "execution_count": 7,
   "metadata": {
    "collapsed": false
   },
   "outputs": [
    {
     "data": {},
     "metadata": {},
     "output_type": "display_data"
    },
    {
     "data": {
      "image/png": "[encoded data removed]",
      "text/plain": [
       "plot without title"
      ]
     },
     "metadata": {},
     "output_type": "display_data"
    }
   ],
   "source": [
    "ggplot(df,aes(promotion_last_5years)) + geom_bar(aes(fill=factor(promotion_last_5years)),alpha=0.5)\n"
   ]
  },
  {
   "cell_type": "code",
   "execution_count": 10,
   "metadata": {
    "collapsed": false
   },
   "outputs": [
    {
     "data": {},
     "metadata": {},
     "output_type": "display_data"
    },
    {
     "data": {
      "image/png": "[encoded data removed]",
      "text/plain": [
       "plot without title"
      ]
     },
     "metadata": {},
     "output_type": "display_data"
    }
   ],
   "source": [
    "ggplot(df,aes(last_evaluation)) + geom_histogram(fill='red',bins=20,alpha=0.5)\n"
   ]
  },
  {
   "cell_type": "code",
   "execution_count": 11,
   "metadata": {
    "collapsed": false
   },
   "outputs": [
    {
     "data": {},
     "metadata": {},
     "output_type": "display_data"
    },
    {
     "data": {
      "image/png": "[encoded data removed]",
      "text/plain": [
       "plot without title"
      ]
     },
     "metadata": {},
     "output_type": "display_data"
    }
   ],
   "source": [
    "(ggplot(df,aes(time_spend_company)) + geom_bar(fill='red',alpha=0.5))\n"
   ]
  },
  {
   "cell_type": "code",
   "execution_count": 12,
   "metadata": {
    "collapsed": false
   },
   "outputs": [
    {
     "name": "stderr",
     "output_type": "stream",
     "text": [
      "`stat_bin()` using `bins = 30`. Pick better value with `binwidth`.\n"
     ]
    },
    {
     "data": {},
     "metadata": {},
     "output_type": "display_data"
    },
    {
     "data": {
      "image/png": "[encoded data removed]",
      "text/plain": [
       "plot without title"
      ]
     },
     "metadata": {},
     "output_type": "display_data"
    }
   ],
   "source": [
    "ggplot(df,aes(satisfaction_level)) + geom_histogram(fill='red',color='blue',alpha=0.5)\n"
   ]
  },
  {
   "cell_type": "code",
   "execution_count": 13,
   "metadata": {
    "collapsed": false
   },
   "outputs": [
    {
     "name": "stderr",
     "output_type": "stream",
     "text": [
      "`stat_bin()` using `bins = 30`. Pick better value with `binwidth`.\n"
     ]
    },
    {
     "data": {},
     "metadata": {},
     "output_type": "display_data"
    },
    {
     "data": {
      "image/png": "[encoded data removed]",
      "text/plain": [
       "plot without title"
      ]
     },
     "metadata": {},
     "output_type": "display_data"
    }
   ],
   "source": [
    "ggplot(df,aes(number_project)) + geom_histogram(fill='red',color='blue',alpha=0.5)\n"
   ]
  },
  {
   "cell_type": "code",
   "execution_count": 16,
   "metadata": {
    "collapsed": false
   },
   "outputs": [
    {
     "data": {},
     "metadata": {},
     "output_type": "display_data"
    },
    {
     "data": {
      "image/png": "[encoded data removed]",
      "text/plain": [
       "plot without title"
      ]
     },
     "metadata": {},
     "output_type": "display_data"
    }
   ],
   "source": [
    "ggplot(df,aes(left,number_project)) + geom_boxplot(aes(group=left,fill=factor(left),alpha=0.4))\n"
   ]
  },
  {
   "cell_type": "code",
   "execution_count": 17,
   "metadata": {
    "collapsed": false
   },
   "outputs": [
    {
     "data": {
      "text/html": [
       "<table>\n",
       "<thead><tr><th scope=col>last_evaluation</th><th scope=col>number_project</th><th scope=col>average_montly_hours</th><th scope=col>time_spend_company</th><th scope=col>Work_accident</th><th scope=col>left</th><th scope=col>promotion_last_5years</th><th scope=col>sales</th><th scope=col>salary</th></tr></thead>\n",
       "<tbody>\n",
       "\t<tr><td>0.53  </td><td>2     </td><td>157   </td><td>3     </td><td>0     </td><td>1     </td><td>0     </td><td>sales </td><td>low   </td></tr>\n",
       "\t<tr><td>0.86  </td><td>5     </td><td>262   </td><td>6     </td><td>0     </td><td>1     </td><td>0     </td><td>sales </td><td>medium</td></tr>\n",
       "\t<tr><td>0.88  </td><td>7     </td><td>272   </td><td>4     </td><td>0     </td><td>1     </td><td>0     </td><td>sales </td><td>medium</td></tr>\n",
       "</tbody>\n",
       "</table>\n"
      ],
      "text/latex": [
       "\\begin{tabular}{r|lllllllll}\n",
       " last\\_evaluation & number\\_project & average\\_montly\\_hours & time\\_spend\\_company & Work\\_accident & left & promotion\\_last\\_5years & sales & salary\\\\\n",
       "\\hline\n",
       "\t 0.53   & 2      & 157    & 3      & 0      & 1      & 0      & sales  & low   \\\\\n",
       "\t 0.86   & 5      & 262    & 6      & 0      & 1      & 0      & sales  & medium\\\\\n",
       "\t 0.88   & 7      & 272    & 4      & 0      & 1      & 0      & sales  & medium\\\\\n",
       "\\end{tabular}\n"
      ],
      "text/markdown": [
       "\n",
       "last_evaluation | number_project | average_montly_hours | time_spend_company | Work_accident | left | promotion_last_5years | sales | salary | \n",
       "|---|---|---|\n",
       "| 0.53   | 2      | 157    | 3      | 0      | 1      | 0      | sales  | low    | \n",
       "| 0.86   | 5      | 262    | 6      | 0      | 1      | 0      | sales  | medium | \n",
       "| 0.88   | 7      | 272    | 4      | 0      | 1      | 0      | sales  | medium | \n",
       "\n",
       "\n"
      ],
      "text/plain": [
       "  last_evaluation number_project average_montly_hours time_spend_company\n",
       "1 0.53            2              157                  3                 \n",
       "2 0.86            5              262                  6                 \n",
       "3 0.88            7              272                  4                 \n",
       "  Work_accident left promotion_last_5years sales salary\n",
       "1 0             1    0                     sales low   \n",
       "2 0             1    0                     sales medium\n",
       "3 0             1    0                     sales medium"
      ]
     },
     "metadata": {},
     "output_type": "display_data"
    },
    {
     "data": {
      "text/html": [
       "FALSE"
      ],
      "text/latex": [
       "FALSE"
      ],
      "text/markdown": [
       "FALSE"
      ],
      "text/plain": [
       "[1] FALSE"
      ]
     },
     "metadata": {},
     "output_type": "display_data"
    },
    {
     "data": {
      "text/html": [
       "<table>\n",
       "<thead><tr><th scope=col>last_evaluation</th><th scope=col>number_project</th><th scope=col>average_montly_hours</th><th scope=col>time_spend_company</th><th scope=col>Work_accident</th><th scope=col>left</th><th scope=col>promotion_last_5years</th></tr></thead>\n",
       "<tbody>\n",
       "\t<tr><td>0.53</td><td>2   </td><td>157 </td><td>3   </td><td>0   </td><td>1   </td><td>0   </td></tr>\n",
       "\t<tr><td>0.86</td><td>5   </td><td>262 </td><td>6   </td><td>0   </td><td>1   </td><td>0   </td></tr>\n",
       "\t<tr><td>0.88</td><td>7   </td><td>272 </td><td>4   </td><td>0   </td><td>1   </td><td>0   </td></tr>\n",
       "</tbody>\n",
       "</table>\n"
      ],
      "text/latex": [
       "\\begin{tabular}{r|lllllll}\n",
       " last\\_evaluation & number\\_project & average\\_montly\\_hours & time\\_spend\\_company & Work\\_accident & left & promotion\\_last\\_5years\\\\\n",
       "\\hline\n",
       "\t 0.53 & 2    & 157  & 3    & 0    & 1    & 0   \\\\\n",
       "\t 0.86 & 5    & 262  & 6    & 0    & 1    & 0   \\\\\n",
       "\t 0.88 & 7    & 272  & 4    & 0    & 1    & 0   \\\\\n",
       "\\end{tabular}\n"
      ],
      "text/markdown": [
       "\n",
       "last_evaluation | number_project | average_montly_hours | time_spend_company | Work_accident | left | promotion_last_5years | \n",
       "|---|---|---|\n",
       "| 0.53 | 2    | 157  | 3    | 0    | 1    | 0    | \n",
       "| 0.86 | 5    | 262  | 6    | 0    | 1    | 0    | \n",
       "| 0.88 | 7    | 272  | 4    | 0    | 1    | 0    | \n",
       "\n",
       "\n"
      ],
      "text/plain": [
       "  last_evaluation number_project average_montly_hours time_spend_company\n",
       "1 0.53            2              157                  3                 \n",
       "2 0.86            5              262                  6                 \n",
       "3 0.88            7              272                  4                 \n",
       "  Work_accident left promotion_last_5years\n",
       "1 0             1    0                    \n",
       "2 0             1    0                    \n",
       "3 0             1    0                    "
      ]
     },
     "metadata": {},
     "output_type": "display_data"
    }
   ],
   "source": [
    "# get rid of the first column (serial number)\n",
    "df <- df[ , 2:ncol(df)]   # or df <- df[ , -1]\n",
    "\n",
    "# check the new df\n",
    "head(df, 3)\n",
    "\n",
    "# see if df has missing values\n",
    "any(is.na(df)) # false\n",
    "\n",
    "# identify numerical columns\n",
    "num_col <- sapply(df, is.numeric)\n",
    "\n",
    "# derive data frame of numerical columns\n",
    "df_num <- df[num_col]\n",
    "\n",
    "# display first 3 rows\n",
    "head(df_num,3)\n"
   ]
  },
  {
   "cell_type": "code",
   "execution_count": 19,
   "metadata": {
    "collapsed": false
   },
   "outputs": [
    {
     "data": {
      "text/html": [
       "<table>\n",
       "<thead><tr><th></th><th scope=col>last_evaluation</th><th scope=col>number_project</th><th scope=col>average_montly_hours</th><th scope=col>time_spend_company</th><th scope=col>Work_accident</th><th scope=col>left</th><th scope=col>promotion_last_5years</th></tr></thead>\n",
       "<tbody>\n",
       "\t<tr><th scope=row>last_evaluation</th><td> 1.000000000</td><td> 0.349332589</td><td> 0.339741800</td><td>0.131590722 </td><td>-0.007104289</td><td> 0.00656712 </td><td>-0.008683768</td></tr>\n",
       "\t<tr><th scope=row>number_project</th><td> 0.349332589</td><td> 1.000000000</td><td> 0.417210634</td><td>0.196785891 </td><td>-0.004740548</td><td> 0.02378719 </td><td>-0.006063958</td></tr>\n",
       "\t<tr><th scope=row>average_montly_hours</th><td> 0.339741800</td><td> 0.417210634</td><td> 1.000000000</td><td>0.127754910 </td><td>-0.010142888</td><td> 0.07128718 </td><td>-0.003544414</td></tr>\n",
       "\t<tr><th scope=row>time_spend_company</th><td> 0.131590722</td><td> 0.196785891</td><td> 0.127754910</td><td>1.000000000 </td><td> 0.002120418</td><td> 0.14482217 </td><td> 0.067432925</td></tr>\n",
       "\t<tr><th scope=row>Work_accident</th><td>-0.007104289</td><td>-0.004740548</td><td>-0.010142888</td><td>0.002120418 </td><td> 1.000000000</td><td>-0.15462163 </td><td> 0.039245435</td></tr>\n",
       "\t<tr><th scope=row>left</th><td> 0.006567120</td><td> 0.023787185</td><td> 0.071287179</td><td>0.144822175 </td><td>-0.154621634</td><td> 1.00000000 </td><td>-0.061788107</td></tr>\n",
       "\t<tr><th scope=row>promotion_last_5years</th><td>-0.008683768</td><td>-0.006063958</td><td>-0.003544414</td><td>0.067432925 </td><td> 0.039245435</td><td>-0.06178811 </td><td> 1.000000000</td></tr>\n",
       "</tbody>\n",
       "</table>\n"
      ],
      "text/latex": [
       "\\begin{tabular}{r|lllllll}\n",
       "  & last\\_evaluation & number\\_project & average\\_montly\\_hours & time\\_spend\\_company & Work\\_accident & left & promotion\\_last\\_5years\\\\\n",
       "\\hline\n",
       "\tlast\\_evaluation &  1.000000000 &  0.349332589 &  0.339741800 & 0.131590722  & -0.007104289 &  0.00656712  & -0.008683768\\\\\n",
       "\tnumber\\_project &  0.349332589 &  1.000000000 &  0.417210634 & 0.196785891  & -0.004740548 &  0.02378719  & -0.006063958\\\\\n",
       "\taverage\\_montly\\_hours &  0.339741800 &  0.417210634 &  1.000000000 & 0.127754910  & -0.010142888 &  0.07128718  & -0.003544414\\\\\n",
       "\ttime\\_spend\\_company &  0.131590722 &  0.196785891 &  0.127754910 & 1.000000000  &  0.002120418 &  0.14482217  &  0.067432925\\\\\n",
       "\tWork\\_accident & -0.007104289 & -0.004740548 & -0.010142888 & 0.002120418  &  1.000000000 & -0.15462163  &  0.039245435\\\\\n",
       "\tleft &  0.006567120 &  0.023787185 &  0.071287179 & 0.144822175  & -0.154621634 &  1.00000000  & -0.061788107\\\\\n",
       "\tpromotion\\_last\\_5years & -0.008683768 & -0.006063958 & -0.003544414 & 0.067432925  &  0.039245435 & -0.06178811  &  1.000000000\\\\\n",
       "\\end{tabular}\n"
      ],
      "text/markdown": [
       "\n",
       "| <!--/--> | last_evaluation | number_project | average_montly_hours | time_spend_company | Work_accident | left | promotion_last_5years | \n",
       "|---|---|---|---|---|---|---|\n",
       "| last_evaluation |  1.000000000 |  0.349332589 |  0.339741800 | 0.131590722  | -0.007104289 |  0.00656712  | -0.008683768 | \n",
       "| number_project |  0.349332589 |  1.000000000 |  0.417210634 | 0.196785891  | -0.004740548 |  0.02378719  | -0.006063958 | \n",
       "| average_montly_hours |  0.339741800 |  0.417210634 |  1.000000000 | 0.127754910  | -0.010142888 |  0.07128718  | -0.003544414 | \n",
       "| time_spend_company |  0.131590722 |  0.196785891 |  0.127754910 | 1.000000000  |  0.002120418 |  0.14482217  |  0.067432925 | \n",
       "| Work_accident | -0.007104289 | -0.004740548 | -0.010142888 | 0.002120418  |  1.000000000 | -0.15462163  |  0.039245435 | \n",
       "| left |  0.006567120 |  0.023787185 |  0.071287179 | 0.144822175  | -0.154621634 |  1.00000000  | -0.061788107 | \n",
       "| promotion_last_5years | -0.008683768 | -0.006063958 | -0.003544414 | 0.067432925  |  0.039245435 | -0.06178811  |  1.000000000 | \n",
       "\n",
       "\n"
      ],
      "text/plain": [
       "                      last_evaluation number_project average_montly_hours\n",
       "last_evaluation        1.000000000     0.349332589    0.339741800        \n",
       "number_project         0.349332589     1.000000000    0.417210634        \n",
       "average_montly_hours   0.339741800     0.417210634    1.000000000        \n",
       "time_spend_company     0.131590722     0.196785891    0.127754910        \n",
       "Work_accident         -0.007104289    -0.004740548   -0.010142888        \n",
       "left                   0.006567120     0.023787185    0.071287179        \n",
       "promotion_last_5years -0.008683768    -0.006063958   -0.003544414        \n",
       "                      time_spend_company Work_accident left       \n",
       "last_evaluation       0.131590722        -0.007104289   0.00656712\n",
       "number_project        0.196785891        -0.004740548   0.02378719\n",
       "average_montly_hours  0.127754910        -0.010142888   0.07128718\n",
       "time_spend_company    1.000000000         0.002120418   0.14482217\n",
       "Work_accident         0.002120418         1.000000000  -0.15462163\n",
       "left                  0.144822175        -0.154621634   1.00000000\n",
       "promotion_last_5years 0.067432925         0.039245435  -0.06178811\n",
       "                      promotion_last_5years\n",
       "last_evaluation       -0.008683768         \n",
       "number_project        -0.006063958         \n",
       "average_montly_hours  -0.003544414         \n",
       "time_spend_company     0.067432925         \n",
       "Work_accident          0.039245435         \n",
       "left                  -0.061788107         \n",
       "promotion_last_5years  1.000000000         "
      ]
     },
     "metadata": {},
     "output_type": "display_data"
    },
    {
     "data": {
      "text/html": [],
      "text/latex": [],
      "text/markdown": [],
      "text/plain": [
       "integer(0)"
      ]
     },
     "metadata": {},
     "output_type": "display_data"
    }
   ],
   "source": [
    "# check if features are correlated (works only on numerical features)\n",
    "df_cor <- cor(df_num)\n",
    "df_cor\n",
    "\n",
    "# seems feature promotion_last_5years is strongly correlated (100%)\n",
    "findCorrelation(df_cor, cutoff = 0.9) \n",
    "\n",
    "# can also find if features are linear combination of others\n",
    "#findLinearCombos(df_num)\n"
   ]
  },
  {
   "cell_type": "code",
   "execution_count": 24,
   "metadata": {
    "collapsed": false
   },
   "outputs": [
    {
     "data": {
      "text/html": [
       "<table>\n",
       "<thead><tr><th></th><th scope=col>freqRatio</th><th scope=col>percentUnique</th><th scope=col>zeroVar</th><th scope=col>nzv</th></tr></thead>\n",
       "<tbody>\n",
       "\t<tr><th scope=row>last_evaluation</th><td> 1.014164 </td><td>0.43336222</td><td>FALSE     </td><td>FALSE     </td></tr>\n",
       "\t<tr><th scope=row>number_project</th><td> 1.076449 </td><td>0.04000267</td><td>FALSE     </td><td>FALSE     </td></tr>\n",
       "\t<tr><th scope=row>average_montly_hours</th><td> 1.000000 </td><td>1.43342890</td><td>FALSE     </td><td>FALSE     </td></tr>\n",
       "\t<tr><th scope=row>time_spend_company</th><td> 1.986128 </td><td>0.05333689</td><td>FALSE     </td><td>FALSE     </td></tr>\n",
       "\t<tr><th scope=row>Work_accident</th><td> 5.915168 </td><td>0.01333422</td><td>FALSE     </td><td>FALSE     </td></tr>\n",
       "\t<tr><th scope=row>left</th><td> 3.200224 </td><td>0.01333422</td><td>FALSE     </td><td>FALSE     </td></tr>\n",
       "\t<tr><th scope=row>promotion_last_5years</th><td>46.018809 </td><td>0.01333422</td><td>FALSE     </td><td> TRUE     </td></tr>\n",
       "\t<tr><th scope=row>sales</th><td> 1.522059 </td><td>0.06667111</td><td>FALSE     </td><td>FALSE     </td></tr>\n",
       "\t<tr><th scope=row>salary</th><td> 1.134967 </td><td>0.02000133</td><td>FALSE     </td><td>FALSE     </td></tr>\n",
       "</tbody>\n",
       "</table>\n"
      ],
      "text/latex": [
       "\\begin{tabular}{r|llll}\n",
       "  & freqRatio & percentUnique & zeroVar & nzv\\\\\n",
       "\\hline\n",
       "\tlast\\_evaluation &  1.014164  & 0.43336222 & FALSE      & FALSE     \\\\\n",
       "\tnumber\\_project &  1.076449  & 0.04000267 & FALSE      & FALSE     \\\\\n",
       "\taverage\\_montly\\_hours &  1.000000  & 1.43342890 & FALSE      & FALSE     \\\\\n",
       "\ttime\\_spend\\_company &  1.986128  & 0.05333689 & FALSE      & FALSE     \\\\\n",
       "\tWork\\_accident &  5.915168  & 0.01333422 & FALSE      & FALSE     \\\\\n",
       "\tleft &  3.200224  & 0.01333422 & FALSE      & FALSE     \\\\\n",
       "\tpromotion\\_last\\_5years & 46.018809  & 0.01333422 & FALSE      &  TRUE     \\\\\n",
       "\tsales &  1.522059  & 0.06667111 & FALSE      & FALSE     \\\\\n",
       "\tsalary &  1.134967  & 0.02000133 & FALSE      & FALSE     \\\\\n",
       "\\end{tabular}\n"
      ],
      "text/markdown": [
       "\n",
       "| <!--/--> | freqRatio | percentUnique | zeroVar | nzv | \n",
       "|---|---|---|---|---|---|---|---|---|\n",
       "| last_evaluation |  1.014164  | 0.43336222 | FALSE      | FALSE      | \n",
       "| number_project |  1.076449  | 0.04000267 | FALSE      | FALSE      | \n",
       "| average_montly_hours |  1.000000  | 1.43342890 | FALSE      | FALSE      | \n",
       "| time_spend_company |  1.986128  | 0.05333689 | FALSE      | FALSE      | \n",
       "| Work_accident |  5.915168  | 0.01333422 | FALSE      | FALSE      | \n",
       "| left |  3.200224  | 0.01333422 | FALSE      | FALSE      | \n",
       "| promotion_last_5years | 46.018809  | 0.01333422 | FALSE      |  TRUE      | \n",
       "| sales |  1.522059  | 0.06667111 | FALSE      | FALSE      | \n",
       "| salary |  1.134967  | 0.02000133 | FALSE      | FALSE      | \n",
       "\n",
       "\n"
      ],
      "text/plain": [
       "                      freqRatio percentUnique zeroVar nzv  \n",
       "last_evaluation        1.014164 0.43336222    FALSE   FALSE\n",
       "number_project         1.076449 0.04000267    FALSE   FALSE\n",
       "average_montly_hours   1.000000 1.43342890    FALSE   FALSE\n",
       "time_spend_company     1.986128 0.05333689    FALSE   FALSE\n",
       "Work_accident          5.915168 0.01333422    FALSE   FALSE\n",
       "left                   3.200224 0.01333422    FALSE   FALSE\n",
       "promotion_last_5years 46.018809 0.01333422    FALSE    TRUE\n",
       "sales                  1.522059 0.06667111    FALSE   FALSE\n",
       "salary                 1.134967 0.02000133    FALSE   FALSE"
      ]
     },
     "metadata": {},
     "output_type": "display_data"
    }
   ],
   "source": [
    "\n",
    "# check if variance is very small (near zero variance)\n",
    "nearZeroVar(df, saveMetrics = TRUE) # everything is OK\n",
    "\n",
    "         \n"
   ]
  },
  {
   "cell_type": "code",
   "execution_count": 25,
   "metadata": {
    "collapsed": false
   },
   "outputs": [
    {
     "data": {
      "text/html": [
       "<table>\n",
       "<thead><tr><th></th><th scope=col>last_evaluation</th><th scope=col>number_project</th><th scope=col>average_montly_hours</th><th scope=col>time_spend_company</th><th scope=col>Work_accident</th><th scope=col>left</th><th scope=col>promotion_last_5years</th><th scope=col>sales</th><th scope=col>salary</th></tr></thead>\n",
       "<tbody>\n",
       "\t<tr><th scope=row>2</th><td>0.86  </td><td>5     </td><td>262   </td><td>6     </td><td>0     </td><td>1     </td><td>0     </td><td>sales </td><td>medium</td></tr>\n",
       "\t<tr><th scope=row>3</th><td>0.88  </td><td>7     </td><td>272   </td><td>4     </td><td>0     </td><td>1     </td><td>0     </td><td>sales </td><td>medium</td></tr>\n",
       "\t<tr><th scope=row>4</th><td>0.87  </td><td>5     </td><td>223   </td><td>5     </td><td>0     </td><td>1     </td><td>0     </td><td>sales </td><td>low   </td></tr>\n",
       "</tbody>\n",
       "</table>\n"
      ],
      "text/latex": [
       "\\begin{tabular}{r|lllllllll}\n",
       "  & last\\_evaluation & number\\_project & average\\_montly\\_hours & time\\_spend\\_company & Work\\_accident & left & promotion\\_last\\_5years & sales & salary\\\\\n",
       "\\hline\n",
       "\t2 & 0.86   & 5      & 262    & 6      & 0      & 1      & 0      & sales  & medium\\\\\n",
       "\t3 & 0.88   & 7      & 272    & 4      & 0      & 1      & 0      & sales  & medium\\\\\n",
       "\t4 & 0.87   & 5      & 223    & 5      & 0      & 1      & 0      & sales  & low   \\\\\n",
       "\\end{tabular}\n"
      ],
      "text/markdown": [
       "\n",
       "| <!--/--> | last_evaluation | number_project | average_montly_hours | time_spend_company | Work_accident | left | promotion_last_5years | sales | salary | \n",
       "|---|---|---|\n",
       "| 2 | 0.86   | 5      | 262    | 6      | 0      | 1      | 0      | sales  | medium | \n",
       "| 3 | 0.88   | 7      | 272    | 4      | 0      | 1      | 0      | sales  | medium | \n",
       "| 4 | 0.87   | 5      | 223    | 5      | 0      | 1      | 0      | sales  | low    | \n",
       "\n",
       "\n"
      ],
      "text/plain": [
       "  last_evaluation number_project average_montly_hours time_spend_company\n",
       "2 0.86            5              262                  6                 \n",
       "3 0.88            7              272                  4                 \n",
       "4 0.87            5              223                  5                 \n",
       "  Work_accident left promotion_last_5years sales salary\n",
       "2 0             1    0                     sales medium\n",
       "3 0             1    0                     sales medium\n",
       "4 0             1    0                     sales low   "
      ]
     },
     "metadata": {},
     "output_type": "display_data"
    },
    {
     "data": {
      "text/html": [
       "<table>\n",
       "<thead><tr><th></th><th scope=col>last_evaluation</th><th scope=col>number_project</th><th scope=col>average_montly_hours</th><th scope=col>time_spend_company</th><th scope=col>Work_accident</th><th scope=col>left</th><th scope=col>promotion_last_5years</th><th scope=col>sales</th><th scope=col>salary</th></tr></thead>\n",
       "<tbody>\n",
       "\t<tr><th scope=row>1</th><td>0.53 </td><td>2    </td><td>157  </td><td>3    </td><td>0    </td><td>1    </td><td>0    </td><td>sales</td><td>low  </td></tr>\n",
       "\t<tr><th scope=row>10</th><td>0.53 </td><td>2    </td><td>142  </td><td>3    </td><td>0    </td><td>1    </td><td>0    </td><td>sales</td><td>low  </td></tr>\n",
       "\t<tr><th scope=row>11</th><td>0.54 </td><td>2    </td><td>135  </td><td>3    </td><td>0    </td><td>1    </td><td>0    </td><td>sales</td><td>low  </td></tr>\n",
       "</tbody>\n",
       "</table>\n"
      ],
      "text/latex": [
       "\\begin{tabular}{r|lllllllll}\n",
       "  & last\\_evaluation & number\\_project & average\\_montly\\_hours & time\\_spend\\_company & Work\\_accident & left & promotion\\_last\\_5years & sales & salary\\\\\n",
       "\\hline\n",
       "\t1 & 0.53  & 2     & 157   & 3     & 0     & 1     & 0     & sales & low  \\\\\n",
       "\t10 & 0.53  & 2     & 142   & 3     & 0     & 1     & 0     & sales & low  \\\\\n",
       "\t11 & 0.54  & 2     & 135   & 3     & 0     & 1     & 0     & sales & low  \\\\\n",
       "\\end{tabular}\n"
      ],
      "text/markdown": [
       "\n",
       "| <!--/--> | last_evaluation | number_project | average_montly_hours | time_spend_company | Work_accident | left | promotion_last_5years | sales | salary | \n",
       "|---|---|---|\n",
       "| 1 | 0.53  | 2     | 157   | 3     | 0     | 1     | 0     | sales | low   | \n",
       "| 10 | 0.53  | 2     | 142   | 3     | 0     | 1     | 0     | sales | low   | \n",
       "| 11 | 0.54  | 2     | 135   | 3     | 0     | 1     | 0     | sales | low   | \n",
       "\n",
       "\n"
      ],
      "text/plain": [
       "   last_evaluation number_project average_montly_hours time_spend_company\n",
       "1  0.53            2              157                  3                 \n",
       "10 0.53            2              142                  3                 \n",
       "11 0.54            2              135                  3                 \n",
       "   Work_accident left promotion_last_5years sales salary\n",
       "1  0             1    0                     sales low   \n",
       "10 0             1    0                     sales low   \n",
       "11 0             1    0                     sales low   "
      ]
     },
     "metadata": {},
     "output_type": "display_data"
    }
   ],
   "source": [
    "# set seed to re-generate same random values to split dataset\n",
    "set.seed(100)\n",
    "\n",
    "# caret simplifies split for training and testing\n",
    "df_sampling_vector <- createDataPartition(df$left, p =0.75, list = FALSE)\n",
    "df_train <- df[df_sampling_vector, ]\n",
    "df_test <- df[-df_sampling_vector, ]\n",
    "\n",
    "# verify\n",
    "head(df_train, 3)\n",
    "head(df_test, 3)\n"
   ]
  },
  {
   "cell_type": "code",
   "execution_count": 26,
   "metadata": {
    "collapsed": false
   },
   "outputs": [
    {
     "data": {
      "text/html": [
       "<ol class=list-inline>\n",
       "\t<li>1</li>\n",
       "\t<li>1</li>\n",
       "\t<li>1</li>\n",
       "</ol>\n"
      ],
      "text/latex": [
       "\\begin{enumerate*}\n",
       "\\item 1\n",
       "\\item 1\n",
       "\\item 1\n",
       "\\end{enumerate*}\n"
      ],
      "text/markdown": [
       "1. 1\n",
       "2. 1\n",
       "3. 1\n",
       "\n",
       "\n"
      ],
      "text/plain": [
       "[1] 1 1 1"
      ]
     },
     "metadata": {},
     "output_type": "display_data"
    },
    {
     "data": {
      "text/html": [
       "<ol class=list-inline>\n",
       "\t<li>1</li>\n",
       "\t<li>1</li>\n",
       "\t<li>1</li>\n",
       "</ol>\n"
      ],
      "text/latex": [
       "\\begin{enumerate*}\n",
       "\\item 1\n",
       "\\item 1\n",
       "\\item 1\n",
       "\\end{enumerate*}\n"
      ],
      "text/markdown": [
       "1. 1\n",
       "2. 1\n",
       "3. 1\n",
       "\n",
       "\n"
      ],
      "text/plain": [
       "[1] 1 1 1"
      ]
     },
     "metadata": {},
     "output_type": "display_data"
    }
   ],
   "source": [
    "# keep labels (outputs) for train and test data\n",
    "df_train_label <- df$left[df_sampling_vector]\n",
    "head(df_train_label,3)\n",
    "\n",
    "df_test_label <- df$left[-df_sampling_vector]\n",
    "head(df_test_label,3)\n"
   ]
  },
  {
   "cell_type": "code",
   "execution_count": 27,
   "metadata": {
    "collapsed": false
   },
   "outputs": [
    {
     "data": {
      "text/plain": [
       "\n",
       "Call:\n",
       "lm(formula = left ~ ., data = df_train)\n",
       "\n",
       "Residuals:\n",
       "     Min       1Q   Median       3Q      Max \n",
       "-0.66768 -0.27671 -0.18339  0.07997  1.01799 \n",
       "\n",
       "Coefficients:\n",
       "                        Estimate Std. Error t value Pr(>|t|)    \n",
       "(Intercept)           -7.661e-02  2.917e-02  -2.627 0.008636 ** \n",
       "last_evaluation       -7.598e-02  2.473e-02  -3.072 0.002131 ** \n",
       "number_project        -5.820e-03  3.560e-03  -1.635 0.102140    \n",
       "average_montly_hours   5.949e-04  8.705e-05   6.834 8.71e-12 ***\n",
       "time_spend_company     4.575e-02  2.722e-03  16.804  < 2e-16 ***\n",
       "Work_accident         -1.802e-01  1.091e-02 -16.523  < 2e-16 ***\n",
       "promotion_last_5years -1.320e-01  2.673e-02  -4.940 7.94e-07 ***\n",
       "saleshr                5.488e-03  2.407e-02   0.228 0.819623    \n",
       "salesIT               -4.845e-02  2.142e-02  -2.262 0.023724 *  \n",
       "salesmanagement       -9.255e-02  2.520e-02  -3.672 0.000241 ***\n",
       "salesmarketing        -3.735e-02  2.299e-02  -1.625 0.104223    \n",
       "salesproduct_mng      -4.869e-02  2.301e-02  -2.117 0.034322 *  \n",
       "salesRandD            -1.077e-01  2.381e-02  -4.522 6.20e-06 ***\n",
       "salessales            -3.531e-02  1.825e-02  -1.935 0.052998 .  \n",
       "salessupport          -1.500e-02  1.947e-02  -0.771 0.440885    \n",
       "salestechnical        -1.478e-02  1.895e-02  -0.780 0.435360    \n",
       "salarylow              2.286e-01  1.477e-02  15.480  < 2e-16 ***\n",
       "salarymedium           1.413e-01  1.485e-02   9.516  < 2e-16 ***\n",
       "---\n",
       "Signif. codes:  0 '***' 0.001 '**' 0.01 '*' 0.05 '.' 0.1 ' ' 1\n",
       "\n",
       "Residual standard error: 0.4075 on 11232 degrees of freedom\n",
       "Multiple R-squared:  0.0826,\tAdjusted R-squared:  0.08121 \n",
       "F-statistic: 59.49 on 17 and 11232 DF,  p-value: < 2.2e-16\n"
      ]
     },
     "metadata": {},
     "output_type": "display_data"
    }
   ],
   "source": [
    "# train a linear model. This means consider left as function of all other features\n",
    "df <- lm(left ~ ., data = df_train)\n",
    "\n",
    "# evaluate training model\n",
    "summary(df)\n"
   ]
  },
  {
   "cell_type": "code",
   "execution_count": 28,
   "metadata": {
    "collapsed": false
   },
   "outputs": [
    {
     "data": {
      "image/png": "[encoded data removed]",
      "text/plain": [
       "Plot with title \"\""
      ]
     },
     "metadata": {},
     "output_type": "display_data"
    },
    {
     "data": {
      "image/png": "[encoded data removed]",
      "text/plain": [
       "Plot with title \"\""
      ]
     },
     "metadata": {},
     "output_type": "display_data"
    },
    {
     "data": {
      "image/png": "[encoded data removed]",
      "text/plain": [
       "Plot with title \"\""
      ]
     },
     "metadata": {},
     "output_type": "display_data"
    },
    {
     "data": {
      "image/png": "[encoded data removed]",
      "text/plain": [
       "Plot with title \"\""
      ]
     },
     "metadata": {},
     "output_type": "display_data"
    }
   ],
   "source": [
    "plot(df)\n"
   ]
  },
  {
   "cell_type": "code",
   "execution_count": 32,
   "metadata": {
    "collapsed": true
   },
   "outputs": [],
   "source": [
    "# now predict the test data outputs\n",
    "employee_pred <- predict(df, df_test)\n"
   ]
  },
  {
   "cell_type": "code",
   "execution_count": 33,
   "metadata": {
    "collapsed": true
   },
   "outputs": [],
   "source": [
    "# define a function to calcculare mean squared errors\n",
    "compute_mse <- function(predictions, actual) {\n",
    "mean( (predictions - actual) ^ 2 )\n",
    "}\n"
   ]
  },
  {
   "cell_type": "code",
   "execution_count": 34,
   "metadata": {
    "collapsed": false
   },
   "outputs": [
    {
     "name": "stdout",
     "output_type": "stream",
     "text": [
      "[1] \"MSE:  0.168223979816478\"\n",
      "[1] \"RMSE:  0.410151167030496\"\n"
     ]
    }
   ],
   "source": [
    "# pass the predictions and actual values to test model\n",
    "mse <- compute_mse(employee_pred, df_test$left) \n",
    "# root mean squared error\n",
    "rmse <- sqrt(mse)\n",
    "print(paste(\"MSE: \", mse))\n",
    "print(paste(\"RMSE: \", rmse))\n"
   ]
  },
  {
   "cell_type": "code",
   "execution_count": 35,
   "metadata": {
    "collapsed": false
   },
   "outputs": [
    {
     "data": {
      "text/html": [
       "<dl class=dl-horizontal>\n",
       "\t<dt>RMSE</dt>\n",
       "\t\t<dd>0.410151167030496</dd>\n",
       "\t<dt>Rsquared</dt>\n",
       "\t\t<dd>0.0836174053647071</dd>\n",
       "</dl>\n"
      ],
      "text/latex": [
       "\\begin{description*}\n",
       "\\item[RMSE] 0.410151167030496\n",
       "\\item[Rsquared] 0.0836174053647071\n",
       "\\end{description*}\n"
      ],
      "text/markdown": [
       "RMSE\n",
       ":   0.410151167030496Rsquared\n",
       ":   0.0836174053647071\n",
       "\n"
      ],
      "text/plain": [
       "      RMSE   Rsquared \n",
       "0.41015117 0.08361741 "
      ]
     },
     "metadata": {},
     "output_type": "display_data"
    }
   ],
   "source": [
    "# caret has a function to calculate RMSE and R^2\n",
    "postResample(pred = employee_pred, obs = df_test$left)\n"
   ]
  },
  {
   "cell_type": "code",
   "execution_count": 36,
   "metadata": {
    "collapsed": false
   },
   "outputs": [
    {
     "data": {
      "text/html": [
       "0.0797625092737349"
      ],
      "text/latex": [
       "0.0797625092737349"
      ],
      "text/markdown": [
       "0.0797625092737349"
      ],
      "text/plain": [
       "[1] 0.07976251"
      ]
     },
     "metadata": {},
     "output_type": "display_data"
    },
    {
     "data": {
      "text/html": [
       "0.0834383079480562"
      ],
      "text/latex": [
       "0.0834383079480562"
      ],
      "text/markdown": [
       "0.0834383079480562"
      ],
      "text/plain": [
       "[1] 0.08343831"
      ]
     },
     "metadata": {},
     "output_type": "display_data"
    }
   ],
   "source": [
    "# on how to calculate R2\n",
    "\n",
    "SSR <- sum((employee_pred - mean(df_test$left))^2)\n",
    "SSE <- sum((df_test$left - employee_pred)^2)\n",
    "SST <- SSR + SSE\n",
    "\n",
    "Rsq <- SSR/SST\n",
    "Rsq # this looks correct comapred to caret's value\n",
    "\n",
    "# using approximation (not encouraged)\n",
    "SSE = sum((employee_pred - df_test$left)^2)\n",
    "# here, SST is calculated directly\n",
    "SST = sum( (mean(df_test$left) - df_test$left)^2)\n",
    "\n",
    "R2 = 1 - SSE/SST\n",
    "R2\n",
    "# slight difference\n"
   ]
  },
  {
   "cell_type": "code",
   "execution_count": null,
   "metadata": {
    "collapsed": true
   },
   "outputs": [],
   "source": []
  }
 ],
 "metadata": {
  "kernelspec": {
   "display_name": "R",
   "language": "R",
   "name": "ir"
  },
  "language_info": {
   "codemirror_mode": "r",
   "file_extension": ".r",
   "mimetype": "text/x-r-source",
   "name": "R",
   "pygments_lexer": "r",
   "version": "3.3.2"
  }
 },
 "nbformat": 4,
 "nbformat_minor": 2
}
